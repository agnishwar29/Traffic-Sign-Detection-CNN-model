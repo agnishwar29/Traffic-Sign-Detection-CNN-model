{
 "cells": [
  {
   "cell_type": "code",
   "execution_count": 41,
   "id": "78d49485",
   "metadata": {},
   "outputs": [],
   "source": [
    "import numpy as np\n",
    "import pandas as pd\n",
    "import tensorflow as tf\n",
    "import matplotlib.pyplot as plt\n",
    "from PIL import Image\n",
    "import os\n",
    "from tensorflow.keras.utils import to_categorical\n",
    "from keras.models import Sequential\n",
    "from keras.layers import Conv2D, MaxPool2D, Dense, Flatten, Dropout\n",
    "import cv2"
   ]
  },
  {
   "cell_type": "code",
   "execution_count": 42,
   "id": "61da46e8",
   "metadata": {},
   "outputs": [],
   "source": [
    "data = []\n",
    "\n",
    "classes = 43\n",
    "IMG_SIZE = 30\n",
    "\n",
    "\n",
    "train_path = r\"D:\\Python projects\\Machine Learning\\Traffic Sign Detection\\dataset\\Train\"\n",
    "\n",
    "\n",
    "for i in range(classes):\n",
    "    path = os.path.join(train_path, str(i))\n",
    "    for img in os.listdir(path):\n",
    "        try:\n",
    "            img_array = cv2.imread(os.path.join(path, img))\n",
    "            new_array = cv2.resize(img_array,(IMG_SIZE, IMG_SIZE))\n",
    "            data.append([new_array, i])\n",
    "        except:\n",
    "            pass\n"
   ]
  },
  {
   "cell_type": "code",
   "execution_count": 43,
   "id": "e2e0d823",
   "metadata": {},
   "outputs": [
    {
     "data": {
      "text/plain": [
       "39209"
      ]
     },
     "execution_count": 43,
     "metadata": {},
     "output_type": "execute_result"
    }
   ],
   "source": [
    "len(data)"
   ]
  },
  {
   "cell_type": "code",
   "execution_count": 44,
   "id": "8ec6eac7",
   "metadata": {},
   "outputs": [
    {
     "data": {
      "text/plain": [
       "42"
      ]
     },
     "execution_count": 44,
     "metadata": {},
     "output_type": "execute_result"
    }
   ],
   "source": [
    "data[-1][1]"
   ]
  },
  {
   "cell_type": "code",
   "execution_count": 45,
   "id": "37cddf09",
   "metadata": {},
   "outputs": [],
   "source": [
    "import random\n",
    "\n",
    "random.shuffle(data)"
   ]
  },
  {
   "cell_type": "code",
   "execution_count": 46,
   "id": "ab8e368c",
   "metadata": {},
   "outputs": [],
   "source": [
    "img_datas = []\n",
    "labels = []\n",
    "\n",
    "for i in data:\n",
    "    img_datas.append(i[0])\n",
    "    labels.append(i[1])"
   ]
  },
  {
   "cell_type": "code",
   "execution_count": 47,
   "id": "d0e763b7",
   "metadata": {},
   "outputs": [
    {
     "data": {
      "text/plain": [
       "[40, 41, 1, 25, 2]"
      ]
     },
     "execution_count": 47,
     "metadata": {},
     "output_type": "execute_result"
    }
   ],
   "source": [
    "labels[:5]"
   ]
  },
  {
   "cell_type": "code",
   "execution_count": 48,
   "id": "c1663150",
   "metadata": {},
   "outputs": [],
   "source": [
    "img_datas = np.array(img_datas)\n",
    "labels = np.array(labels)"
   ]
  },
  {
   "cell_type": "code",
   "execution_count": 49,
   "id": "6e0576b4",
   "metadata": {},
   "outputs": [
    {
     "data": {
      "text/plain": [
       "array([40, 41,  1, 25,  2])"
      ]
     },
     "execution_count": 49,
     "metadata": {},
     "output_type": "execute_result"
    }
   ],
   "source": [
    "labels[:5]"
   ]
  },
  {
   "cell_type": "code",
   "execution_count": 50,
   "id": "3efef9c8",
   "metadata": {},
   "outputs": [],
   "source": [
    "from sklearn.model_selection import train_test_split\n",
    "\n",
    "X_train,X_test,y_train,y_test = train_test_split(img_datas, labels)"
   ]
  },
  {
   "cell_type": "code",
   "execution_count": 51,
   "id": "3db3b8e3",
   "metadata": {},
   "outputs": [
    {
     "data": {
      "text/plain": [
       "((29406, 30, 30, 3), (9803, 30, 30, 3))"
      ]
     },
     "execution_count": 51,
     "metadata": {},
     "output_type": "execute_result"
    }
   ],
   "source": [
    "X_train.shape, X_test.shape"
   ]
  },
  {
   "cell_type": "code",
   "execution_count": 52,
   "id": "3d7f1f63",
   "metadata": {},
   "outputs": [],
   "source": [
    "y_train = to_categorical(y_train, 43)\n",
    "y_test = to_categorical(y_test, 43)"
   ]
  },
  {
   "cell_type": "code",
   "execution_count": 53,
   "id": "2b9e0232",
   "metadata": {},
   "outputs": [
    {
     "data": {
      "text/plain": [
       "array([0., 0., 0., 0., 0., 0., 0., 0., 0., 0., 0., 0., 1., 0., 0., 0., 0.,\n",
       "       0., 0., 0., 0., 0., 0., 0., 0., 0., 0., 0., 0., 0., 0., 0., 0., 0.,\n",
       "       0., 0., 0., 0., 0., 0., 0., 0., 0.], dtype=float32)"
      ]
     },
     "execution_count": 53,
     "metadata": {},
     "output_type": "execute_result"
    }
   ],
   "source": [
    "y_train[0]"
   ]
  },
  {
   "cell_type": "code",
   "execution_count": 54,
   "id": "9ee39827",
   "metadata": {},
   "outputs": [],
   "source": [
    "## Building Model"
   ]
  },
  {
   "cell_type": "code",
   "execution_count": 55,
   "id": "b4054670",
   "metadata": {},
   "outputs": [],
   "source": [
    "model = Sequential()\n",
    "model.add(Conv2D(filters=32, kernel_size=(5,5), activation='relu', input_shape=(IMG_SIZE, IMG_SIZE,3)))\n",
    "model.add(Conv2D(filters=32, kernel_size=(5,5), activation='relu'))\n",
    "model.add(MaxPool2D((2,2)))\n",
    "model.add(Dropout(0.25))\n",
    "\n",
    "model.add(Conv2D(filters=64, kernel_size=(3,3), activation='relu'))\n",
    "model.add(Conv2D(filters=64, kernel_size=(3,3), activation='relu'))\n",
    "model.add(MaxPool2D((2,2)))\n",
    "model.add(Dropout(0.25))\n",
    "\n",
    "model.add(Flatten())\n",
    "model.add(Dense(256, activation='relu'))\n",
    "model.add(Dropout(0.25))\n",
    "model.add(Dense(43, activation='softmax'))"
   ]
  },
  {
   "cell_type": "code",
   "execution_count": 56,
   "id": "da19a2fb",
   "metadata": {},
   "outputs": [],
   "source": [
    "model.compile(loss='categorical_crossentropy', optimizer='adam', metrics=['accuracy'])"
   ]
  },
  {
   "cell_type": "code",
   "execution_count": 57,
   "id": "3b8332f9",
   "metadata": {},
   "outputs": [
    {
     "name": "stdout",
     "output_type": "stream",
     "text": [
      "Epoch 1/15\n",
      "919/919 [==============================] - 45s 49ms/step - loss: 1.6915 - accuracy: 0.5758 - val_loss: 0.3675 - val_accuracy: 0.9126\n",
      "Epoch 2/15\n",
      "919/919 [==============================] - 47s 51ms/step - loss: 0.4903 - accuracy: 0.8597 - val_loss: 0.1559 - val_accuracy: 0.9594\n",
      "Epoch 3/15\n",
      "919/919 [==============================] - 48s 52ms/step - loss: 0.3136 - accuracy: 0.9117 - val_loss: 0.1032 - val_accuracy: 0.9718\n",
      "Epoch 4/15\n",
      "919/919 [==============================] - 46s 50ms/step - loss: 0.2396 - accuracy: 0.9301 - val_loss: 0.1016 - val_accuracy: 0.9766\n",
      "Epoch 5/15\n",
      "919/919 [==============================] - 45s 49ms/step - loss: 0.2498 - accuracy: 0.9294 - val_loss: 0.0859 - val_accuracy: 0.9749\n",
      "Epoch 6/15\n",
      "919/919 [==============================] - 45s 49ms/step - loss: 0.2196 - accuracy: 0.9381 - val_loss: 0.0574 - val_accuracy: 0.9834\n",
      "Epoch 7/15\n",
      "919/919 [==============================] - 45s 49ms/step - loss: 0.1896 - accuracy: 0.9481 - val_loss: 0.0526 - val_accuracy: 0.9866\n",
      "Epoch 8/15\n",
      "919/919 [==============================] - 50s 54ms/step - loss: 0.1936 - accuracy: 0.9480 - val_loss: 0.0575 - val_accuracy: 0.9842\n",
      "Epoch 9/15\n",
      "919/919 [==============================] - 50s 55ms/step - loss: 0.1814 - accuracy: 0.9506 - val_loss: 0.0885 - val_accuracy: 0.9760\n",
      "Epoch 10/15\n",
      "919/919 [==============================] - 46s 51ms/step - loss: 0.1893 - accuracy: 0.9487 - val_loss: 0.0455 - val_accuracy: 0.9879\n",
      "Epoch 11/15\n",
      "919/919 [==============================] - 46s 50ms/step - loss: 0.1873 - accuracy: 0.9501 - val_loss: 0.0602 - val_accuracy: 0.9849\n",
      "Epoch 12/15\n",
      "919/919 [==============================] - 51s 55ms/step - loss: 0.1844 - accuracy: 0.9502 - val_loss: 0.0486 - val_accuracy: 0.9882\n",
      "Epoch 13/15\n",
      "919/919 [==============================] - 47s 51ms/step - loss: 0.1939 - accuracy: 0.9505 - val_loss: 0.0790 - val_accuracy: 0.9775\n",
      "Epoch 14/15\n",
      "919/919 [==============================] - 46s 50ms/step - loss: 0.1690 - accuracy: 0.9551 - val_loss: 0.0592 - val_accuracy: 0.9849\n",
      "Epoch 15/15\n",
      "919/919 [==============================] - 49s 53ms/step - loss: 0.1652 - accuracy: 0.9552 - val_loss: 0.0516 - val_accuracy: 0.9866\n"
     ]
    }
   ],
   "source": [
    "cnn = model.fit(X_train,y_train, batch_size=32, epochs=15, validation_data=(X_test,y_test))"
   ]
  },
  {
   "cell_type": "code",
   "execution_count": 70,
   "id": "e92ec2c2",
   "metadata": {},
   "outputs": [
    {
     "data": {
      "image/png": "[encoded data removed]",
      "text/plain": [
       "<Figure size 432x288 with 1 Axes>"
      ]
     },
     "metadata": {
      "needs_background": "light"
     },
     "output_type": "display_data"
    },
    {
     "data": {
      "image/png": "[encoded data removed]",
      "text/plain": [
       "<Figure size 432x288 with 1 Axes>"
      ]
     },
     "metadata": {
      "needs_background": "light"
     },
     "output_type": "display_data"
    }
   ],
   "source": [
    "plt.figure(0)\n",
    "plt.plot(cnn.history['accuracy'], label='training accuracy')\n",
    "plt.plot(cnn.history['val_accuracy'], label='val accuracy')\n",
    "plt.title(\"Accuracy\")\n",
    "plt.xlabel('epochs')\n",
    "plt.ylabel('accuracy')\n",
    "plt.legend()\n",
    "plt.show()\n",
    "plt.figure(1)\n",
    "plt.plot(cnn.history['loss'], label='training loss')\n",
    "plt.plot(cnn.history['val_loss'], label='val loss')\n",
    "plt.title('Loss')\n",
    "plt.xlabel('epochs')\n",
    "plt.ylabel('loss')\n",
    "plt.legend()\n",
    "plt.show()"
   ]
  },
  {
   "cell_type": "code",
   "execution_count": 71,
   "id": "be682312",
   "metadata": {},
   "outputs": [],
   "source": [
    "##Testing accuracy on test dataset"
   ]
  },
  {
   "cell_type": "code",
   "execution_count": 72,
   "id": "8c15e4e6",
   "metadata": {},
   "outputs": [],
   "source": [
    "from sklearn.metrics import accuracy_score"
   ]
  },
  {
   "cell_type": "code",
   "execution_count": 90,
   "id": "92a7c0e9",
   "metadata": {},
   "outputs": [],
   "source": [
    "test = pd.read_csv('Test.csv')"
   ]
  },
  {
   "cell_type": "code",
   "execution_count": 91,
   "id": "7103b36e",
   "metadata": {},
   "outputs": [
    {
     "data": {
      "text/html": [
       "<div>\n",
       "<style scoped>\n",
       "    .dataframe tbody tr th:only-of-type {\n",
       "        vertical-align: middle;\n",
       "    }\n",
       "\n",
       "    .dataframe tbody tr th {\n",
       "        vertical-align: top;\n",
       "    }\n",
       "\n",
       "    .dataframe thead th {\n",
       "        text-align: right;\n",
       "    }\n",
       "</style>\n",
       "<table border=\"1\" class=\"dataframe\">\n",
       "  <thead>\n",
       "    <tr style=\"text-align: right;\">\n",
       "      <th></th>\n",
       "      <th>Width</th>\n",
       "      <th>Height</th>\n",
       "      <th>Roi.X1</th>\n",
       "      <th>Roi.Y1</th>\n",
       "      <th>Roi.X2</th>\n",
       "      <th>Roi.Y2</th>\n",
       "      <th>ClassId</th>\n",
       "      <th>Path</th>\n",
       "    </tr>\n",
       "  </thead>\n",
       "  <tbody>\n",
       "    <tr>\n",
       "      <th>0</th>\n",
       "      <td>53</td>\n",
       "      <td>54</td>\n",
       "      <td>6</td>\n",
       "      <td>5</td>\n",
       "      <td>48</td>\n",
       "      <td>49</td>\n",
       "      <td>16</td>\n",
       "      <td>Test/00000.png</td>\n",
       "    </tr>\n",
       "    <tr>\n",
       "      <th>1</th>\n",
       "      <td>42</td>\n",
       "      <td>45</td>\n",
       "      <td>5</td>\n",
       "      <td>5</td>\n",
       "      <td>36</td>\n",
       "      <td>40</td>\n",
       "      <td>1</td>\n",
       "      <td>Test/00001.png</td>\n",
       "    </tr>\n",
       "    <tr>\n",
       "      <th>2</th>\n",
       "      <td>48</td>\n",
       "      <td>52</td>\n",
       "      <td>6</td>\n",
       "      <td>6</td>\n",
       "      <td>43</td>\n",
       "      <td>47</td>\n",
       "      <td>38</td>\n",
       "      <td>Test/00002.png</td>\n",
       "    </tr>\n",
       "    <tr>\n",
       "      <th>3</th>\n",
       "      <td>27</td>\n",
       "      <td>29</td>\n",
       "      <td>5</td>\n",
       "      <td>5</td>\n",
       "      <td>22</td>\n",
       "      <td>24</td>\n",
       "      <td>33</td>\n",
       "      <td>Test/00003.png</td>\n",
       "    </tr>\n",
       "    <tr>\n",
       "      <th>4</th>\n",
       "      <td>60</td>\n",
       "      <td>57</td>\n",
       "      <td>5</td>\n",
       "      <td>5</td>\n",
       "      <td>55</td>\n",
       "      <td>52</td>\n",
       "      <td>11</td>\n",
       "      <td>Test/00004.png</td>\n",
       "    </tr>\n",
       "    <tr>\n",
       "      <th>5</th>\n",
       "      <td>52</td>\n",
       "      <td>56</td>\n",
       "      <td>5</td>\n",
       "      <td>5</td>\n",
       "      <td>47</td>\n",
       "      <td>51</td>\n",
       "      <td>38</td>\n",
       "      <td>Test/00005.png</td>\n",
       "    </tr>\n",
       "    <tr>\n",
       "      <th>6</th>\n",
       "      <td>147</td>\n",
       "      <td>130</td>\n",
       "      <td>12</td>\n",
       "      <td>12</td>\n",
       "      <td>135</td>\n",
       "      <td>119</td>\n",
       "      <td>18</td>\n",
       "      <td>Test/00006.png</td>\n",
       "    </tr>\n",
       "    <tr>\n",
       "      <th>7</th>\n",
       "      <td>32</td>\n",
       "      <td>33</td>\n",
       "      <td>5</td>\n",
       "      <td>5</td>\n",
       "      <td>26</td>\n",
       "      <td>28</td>\n",
       "      <td>12</td>\n",
       "      <td>Test/00007.png</td>\n",
       "    </tr>\n",
       "    <tr>\n",
       "      <th>8</th>\n",
       "      <td>45</td>\n",
       "      <td>50</td>\n",
       "      <td>6</td>\n",
       "      <td>5</td>\n",
       "      <td>40</td>\n",
       "      <td>45</td>\n",
       "      <td>25</td>\n",
       "      <td>Test/00008.png</td>\n",
       "    </tr>\n",
       "    <tr>\n",
       "      <th>9</th>\n",
       "      <td>81</td>\n",
       "      <td>86</td>\n",
       "      <td>7</td>\n",
       "      <td>7</td>\n",
       "      <td>74</td>\n",
       "      <td>79</td>\n",
       "      <td>35</td>\n",
       "      <td>Test/00009.png</td>\n",
       "    </tr>\n",
       "  </tbody>\n",
       "</table>\n",
       "</div>"
      ],
      "text/plain": [
       "   Width  Height  Roi.X1  Roi.Y1  Roi.X2  Roi.Y2  ClassId            Path\n",
       "0     53      54       6       5      48      49       16  Test/00000.png\n",
       "1     42      45       5       5      36      40        1  Test/00001.png\n",
       "2     48      52       6       6      43      47       38  Test/00002.png\n",
       "3     27      29       5       5      22      24       33  Test/00003.png\n",
       "4     60      57       5       5      55      52       11  Test/00004.png\n",
       "5     52      56       5       5      47      51       38  Test/00005.png\n",
       "6    147     130      12      12     135     119       18  Test/00006.png\n",
       "7     32      33       5       5      26      28       12  Test/00007.png\n",
       "8     45      50       6       5      40      45       25  Test/00008.png\n",
       "9     81      86       7       7      74      79       35  Test/00009.png"
      ]
     },
     "execution_count": 91,
     "metadata": {},
     "output_type": "execute_result"
    }
   ],
   "source": [
    "test.head(10)"
   ]
  },
  {
   "cell_type": "code",
   "execution_count": 92,
   "id": "bf1d3035",
   "metadata": {},
   "outputs": [
    {
     "data": {
      "text/plain": [
       "array([16,  1, 38, ...,  6,  7, 10], dtype=int64)"
      ]
     },
     "execution_count": 92,
     "metadata": {},
     "output_type": "execute_result"
    }
   ],
   "source": [
    "test_labels = test[\"ClassId\"].values\n",
    "test_labels"
   ]
  },
  {
   "cell_type": "code",
   "execution_count": 93,
   "id": "3da7d59b",
   "metadata": {},
   "outputs": [
    {
     "data": {
      "text/plain": [
       "array(['Test/00000.png', 'Test/00001.png', 'Test/00002.png', ...,\n",
       "       'Test/12627.png', 'Test/12628.png', 'Test/12629.png'], dtype=object)"
      ]
     },
     "execution_count": 93,
     "metadata": {},
     "output_type": "execute_result"
    }
   ],
   "source": [
    "img_paths = test[\"Path\"].values\n",
    "img_paths"
   ]
  },
  {
   "cell_type": "code",
   "execution_count": 98,
   "id": "393e0f91",
   "metadata": {},
   "outputs": [
    {
     "name": "stdout",
     "output_type": "stream",
     "text": [
      "Not found GT-final_test.csv\n"
     ]
    }
   ],
   "source": [
    "test_images_path = r\"D:\\Python projects\\Machine Learning\\Traffic Sign Detection\\dataset\\Test\"\n",
    "test_data = []\n",
    "\n",
    "for img in os.listdir(test_images_path):\n",
    "        try:\n",
    "            img_array = cv2.imread(os.path.join(test_images_path, img))\n",
    "            new_array = cv2.resize(img_array,(IMG_SIZE, IMG_SIZE))\n",
    "            test_data.append(new_array)\n",
    "        except:\n",
    "            print(\"Not found\", img)"
   ]
  },
  {
   "cell_type": "code",
   "execution_count": 99,
   "id": "bbe30ff0",
   "metadata": {},
   "outputs": [
    {
     "data": {
      "text/plain": [
       "12630"
      ]
     },
     "execution_count": 99,
     "metadata": {},
     "output_type": "execute_result"
    }
   ],
   "source": [
    "len(test_data)"
   ]
  },
  {
   "cell_type": "code",
   "execution_count": null,
   "id": "56a0d6b9",
   "metadata": {},
   "outputs": [],
   "source": []
  }
 ],
 "metadata": {
  "kernelspec": {
   "display_name": "Python 3 (ipykernel)",
   "language": "python",
   "name": "python3"
  },
  "language_info": {
   "codemirror_mode": {
    "name": "ipython",
    "version": 3
   },
   "file_extension": ".py",
   "mimetype": "text/x-python",
   "name": "python",
   "nbconvert_exporter": "python",
   "pygments_lexer": "ipython3",
   "version": "3.9.7"
  }
 },
 "nbformat": 4,
 "nbformat_minor": 5
}
